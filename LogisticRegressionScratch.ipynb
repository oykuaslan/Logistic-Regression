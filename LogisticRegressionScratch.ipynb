{
 "cells": [
  {
   "cell_type": "code",
   "execution_count": 1,
   "metadata": {},
   "outputs": [],
   "source": [
    "import numpy as np\n",
    "import pandas as pd\n",
    "from sklearn.preprocessing import MinMaxScaler\n",
    "from sklearn.metrics import accuracy_score\n",
    "import matplotlib.pyplot as plt"
   ]
  },
  {
   "cell_type": "code",
   "execution_count": 2,
   "metadata": {},
   "outputs": [
    {
     "name": "stdout",
     "output_type": "stream",
     "text": [
      "   Survived  Pclass  Sex   Age\n",
      "0         0       3    2  22.0\n",
      "1         1       1    1  38.0\n",
      "2         1       3    1  26.0\n",
      "3         1       1    1  35.0\n",
      "4         0       3    2  35.0\n",
      "(891, 4)\n"
     ]
    }
   ],
   "source": [
    "df = pd.read_csv('titanicdata.csv')\n",
    "print(df.head())\n",
    "print(df.shape)"
   ]
  },
  {
   "cell_type": "code",
   "execution_count": 3,
   "metadata": {},
   "outputs": [
    {
     "name": "stdout",
     "output_type": "stream",
     "text": [
      "Number of non-survived passengers:  549\n",
      "Number of survived passengers:  342\n"
     ]
    }
   ],
   "source": [
    "# Print the class distribution\n",
    "print(\"Number of non-survived passengers: \", df[df.Survived == 0].shape[0])\n",
    "print(\"Number of survived passengers: \", df[df.Survived == 1].shape[0])"
   ]
  },
  {
   "cell_type": "code",
   "execution_count": 4,
   "metadata": {},
   "outputs": [
    {
     "name": "stderr",
     "output_type": "stream",
     "text": [
      "/opt/anaconda3/lib/python3.7/site-packages/sklearn/utils/__init__.py:806: DeprecationWarning: `np.int` is a deprecated alias for the builtin `int`. To silence this warning, use `int` by itself. Doing this will not modify any behavior and is safe. When replacing `np.int`, you may wish to use e.g. `np.int64` or `np.int32` to specify the precision. If you wish to review your current use, check the release note link for additional information.\n",
      "Deprecated in NumPy 1.20; for more details and guidance: https://numpy.org/devdocs/release/1.20.0-notes.html#deprecations\n",
      "  return floored.astype(np.int)\n",
      "/opt/anaconda3/lib/python3.7/site-packages/sklearn/utils/__init__.py:806: DeprecationWarning: `np.int` is a deprecated alias for the builtin `int`. To silence this warning, use `int` by itself. Doing this will not modify any behavior and is safe. When replacing `np.int`, you may wish to use e.g. `np.int64` or `np.int32` to specify the precision. If you wish to review your current use, check the release note link for additional information.\n",
      "Deprecated in NumPy 1.20; for more details and guidance: https://numpy.org/devdocs/release/1.20.0-notes.html#deprecations\n",
      "  return floored.astype(np.int)\n",
      "/opt/anaconda3/lib/python3.7/site-packages/sklearn/utils/__init__.py:806: DeprecationWarning: `np.int` is a deprecated alias for the builtin `int`. To silence this warning, use `int` by itself. Doing this will not modify any behavior and is safe. When replacing `np.int`, you may wish to use e.g. `np.int64` or `np.int32` to specify the precision. If you wish to review your current use, check the release note link for additional information.\n",
      "Deprecated in NumPy 1.20; for more details and guidance: https://numpy.org/devdocs/release/1.20.0-notes.html#deprecations\n",
      "  return floored.astype(np.int)\n",
      "/opt/anaconda3/lib/python3.7/site-packages/sklearn/utils/__init__.py:806: DeprecationWarning: `np.int` is a deprecated alias for the builtin `int`. To silence this warning, use `int` by itself. Doing this will not modify any behavior and is safe. When replacing `np.int`, you may wish to use e.g. `np.int64` or `np.int32` to specify the precision. If you wish to review your current use, check the release note link for additional information.\n",
      "Deprecated in NumPy 1.20; for more details and guidance: https://numpy.org/devdocs/release/1.20.0-notes.html#deprecations\n",
      "  return floored.astype(np.int)\n"
     ]
    }
   ],
   "source": [
    "# Import train_test_split from sklearn.model_selection\n",
    "from sklearn.model_selection import train_test_split\n",
    "\n",
    "# Extract X and y\n",
    "X = df.drop(['Survived'], axis=1).values\n",
    "y = df.Survived.values\n",
    "\n",
    "# Use train_test_split\n",
    "X_train1, X_test, y_train1, y_test = train_test_split(X, y, test_size = 0.2, stratify = y, random_state = 123)\n",
    "X_train, X_val, y_train, y_val = train_test_split(X_train1, y_train1, test_size = 0.2, stratify = y_train1, random_state = 1234)\n",
    "\n"
   ]
  },
  {
   "cell_type": "code",
   "execution_count": 5,
   "metadata": {},
   "outputs": [
    {
     "name": "stdout",
     "output_type": "stream",
     "text": [
      "Shape of training:  569\n",
      "Negative Samples:  351\n",
      "Positive Samples:  218\n",
      "Shape of validation:  143\n",
      "Negative Samples:  88\n",
      "Positive Samples:  55\n",
      "Shape of test:  179\n",
      "Negative Samples:  110\n",
      "Positive Samples:  69\n"
     ]
    }
   ],
   "source": [
    "print(\"Shape of training: \", X_train.shape[0])\n",
    "print(\"Negative Samples: \", y_train[y_train == 0].shape[0])\n",
    "print(\"Positive Samples: \", y_train[y_train == 1].shape[0])\n",
    "\n",
    "\n",
    "print(\"Shape of validation: \", X_val.shape[0])\n",
    "print(\"Negative Samples: \", y_val[y_val == 0].shape[0])\n",
    "print(\"Positive Samples: \", y_val[y_val == 1].shape[0])\n",
    "\n",
    "\n",
    "print(\"Shape of test: \", X_test.shape[0])\n",
    "print(\"Negative Samples: \", y_test[y_test == 0].shape[0])\n",
    "print(\"Positive Samples: \", y_test[y_test == 1].shape[0])"
   ]
  },
  {
   "cell_type": "code",
   "execution_count": 7,
   "metadata": {},
   "outputs": [],
   "source": [
    "scale = MinMaxScaler()\n",
    "\n",
    "scale.fit(X_train)\n",
    "\n",
    "X_train = scale.transform(X_train)\n",
    "X_val = scale.transform(X_val)\n",
    "X_test = scale.transform(X_test)"
   ]
  },
  {
   "cell_type": "code",
   "execution_count": 8,
   "metadata": {},
   "outputs": [],
   "source": [
    "def gradient(X, y, y_hat):\n",
    "    \n",
    "    #dw = (1/X.shape[0])*np.dot(X.T, (y_hat - y))\n",
    "    #db = (1/X.shape[0])*np.sum((y_hat - y)) \n",
    "    \n",
    "    dw = (1/X.shape[0])*np.dot(X.T, (y - y_hat))\n",
    "    db = (1/X.shape[0])*np.sum((y - y_hat)) \n",
    "    \n",
    "    return dw, db"
   ]
  },
  {
   "cell_type": "code",
   "execution_count": 9,
   "metadata": {},
   "outputs": [],
   "source": [
    "def sigmoid(z):\n",
    "    return 1/(1+np.exp(-z))"
   ]
  },
  {
   "cell_type": "code",
   "execution_count": 10,
   "metadata": {},
   "outputs": [],
   "source": [
    "def train(X, y, epochs, lr):\n",
    "\n",
    "    n_samples, n_features= X.shape\n",
    "    w=np.zeros(n_features)\n",
    "    b=0\n",
    "\n",
    "    losses = []\n",
    "    for epoch in range(epochs):\n",
    "            \n",
    "        linear=(np.dot(X, w) + b)\n",
    "        y_hat = sigmoid(linear)\n",
    "            \n",
    "        dw, db = gradient(X, y, y_hat)\n",
    "            \n",
    "        w += lr*dw\n",
    "        b += lr*db\n",
    "                \n",
    "        loss = 1/n_samples * np.sum(y * np.log(y_hat) + (1 - y) * np.log(1-y_hat))\n",
    "        losses.append(loss)\n",
    "                \n",
    "    return w, b, losses"
   ]
  },
  {
   "cell_type": "code",
   "execution_count": 11,
   "metadata": {},
   "outputs": [],
   "source": [
    "def predict(X,w,b):\n",
    "    \n",
    "    linear=(np.dot(X, w) + b)\n",
    "    preds = sigmoid(linear)\n",
    "    \n",
    "    pred_class = []\n",
    "    pred_class = [1 if i > 0.5 else 0 for i in preds]\n",
    "    \n",
    "    return np.array(pred_class)"
   ]
  },
  {
   "cell_type": "code",
   "execution_count": 12,
   "metadata": {},
   "outputs": [],
   "source": [
    "epochs=[10,50,100,150,200,250,300,350,400,450,500,1000,1500,2000]\n",
    "lr=[0.5,0.4,0.3,0.2, 0.1,0.001,0.001,0.0001,0.05,0.005,0.0005]"
   ]
  },
  {
   "cell_type": "code",
   "execution_count": 13,
   "metadata": {},
   "outputs": [
    {
     "name": "stdout",
     "output_type": "stream",
     "text": [
      "Epoch:  10 Learning Rate:  0.5 Accuracy:  0.6153846153846154\n",
      "Epoch:  10 Learning Rate:  0.4 Accuracy:  0.6153846153846154\n",
      "Epoch:  10 Learning Rate:  0.3 Accuracy:  0.6153846153846154\n",
      "Epoch:  10 Learning Rate:  0.2 Accuracy:  0.6153846153846154\n",
      "Epoch:  10 Learning Rate:  0.1 Accuracy:  0.6153846153846154\n",
      "Epoch:  10 Learning Rate:  0.001 Accuracy:  0.6153846153846154\n",
      "Epoch:  10 Learning Rate:  0.001 Accuracy:  0.6153846153846154\n",
      "Epoch:  10 Learning Rate:  0.0001 Accuracy:  0.6153846153846154\n",
      "Epoch:  10 Learning Rate:  0.05 Accuracy:  0.6153846153846154\n",
      "Epoch:  10 Learning Rate:  0.005 Accuracy:  0.6153846153846154\n",
      "Epoch:  10 Learning Rate:  0.0005 Accuracy:  0.6153846153846154\n",
      "Epoch:  50 Learning Rate:  0.5 Accuracy:  0.8181818181818182\n",
      "Epoch:  50 Learning Rate:  0.4 Accuracy:  0.8251748251748252\n",
      "Epoch:  50 Learning Rate:  0.3 Accuracy:  0.8251748251748252\n",
      "Epoch:  50 Learning Rate:  0.2 Accuracy:  0.7342657342657343\n",
      "Epoch:  50 Learning Rate:  0.1 Accuracy:  0.6153846153846154\n",
      "Epoch:  50 Learning Rate:  0.001 Accuracy:  0.6153846153846154\n",
      "Epoch:  50 Learning Rate:  0.001 Accuracy:  0.6153846153846154\n",
      "Epoch:  50 Learning Rate:  0.0001 Accuracy:  0.6153846153846154\n",
      "Epoch:  50 Learning Rate:  0.05 Accuracy:  0.6153846153846154\n",
      "Epoch:  50 Learning Rate:  0.005 Accuracy:  0.6153846153846154\n",
      "Epoch:  50 Learning Rate:  0.0005 Accuracy:  0.6153846153846154\n",
      "Epoch:  100 Learning Rate:  0.5 Accuracy:  0.8181818181818182\n",
      "Epoch:  100 Learning Rate:  0.4 Accuracy:  0.8181818181818182\n",
      "Epoch:  100 Learning Rate:  0.3 Accuracy:  0.8181818181818182\n",
      "Epoch:  100 Learning Rate:  0.2 Accuracy:  0.8251748251748252\n",
      "Epoch:  100 Learning Rate:  0.1 Accuracy:  0.7342657342657343\n",
      "Epoch:  100 Learning Rate:  0.001 Accuracy:  0.6153846153846154\n",
      "Epoch:  100 Learning Rate:  0.001 Accuracy:  0.6153846153846154\n",
      "Epoch:  100 Learning Rate:  0.0001 Accuracy:  0.6153846153846154\n",
      "Epoch:  100 Learning Rate:  0.05 Accuracy:  0.6153846153846154\n",
      "Epoch:  100 Learning Rate:  0.005 Accuracy:  0.6153846153846154\n",
      "Epoch:  100 Learning Rate:  0.0005 Accuracy:  0.6153846153846154\n",
      "Epoch:  150 Learning Rate:  0.5 Accuracy:  0.8181818181818182\n",
      "Epoch:  150 Learning Rate:  0.4 Accuracy:  0.8181818181818182\n",
      "Epoch:  150 Learning Rate:  0.3 Accuracy:  0.8181818181818182\n",
      "Epoch:  150 Learning Rate:  0.2 Accuracy:  0.8181818181818182\n",
      "Epoch:  150 Learning Rate:  0.1 Accuracy:  0.8251748251748252\n",
      "Epoch:  150 Learning Rate:  0.001 Accuracy:  0.6153846153846154\n",
      "Epoch:  150 Learning Rate:  0.001 Accuracy:  0.6153846153846154\n",
      "Epoch:  150 Learning Rate:  0.0001 Accuracy:  0.6153846153846154\n",
      "Epoch:  150 Learning Rate:  0.05 Accuracy:  0.7342657342657343\n",
      "Epoch:  150 Learning Rate:  0.005 Accuracy:  0.6153846153846154\n",
      "Epoch:  150 Learning Rate:  0.0005 Accuracy:  0.6153846153846154\n",
      "Epoch:  200 Learning Rate:  0.5 Accuracy:  0.8181818181818182\n",
      "Epoch:  200 Learning Rate:  0.4 Accuracy:  0.8181818181818182\n",
      "Epoch:  200 Learning Rate:  0.3 Accuracy:  0.8181818181818182\n",
      "Epoch:  200 Learning Rate:  0.2 Accuracy:  0.8181818181818182\n",
      "Epoch:  200 Learning Rate:  0.1 Accuracy:  0.8251748251748252\n",
      "Epoch:  200 Learning Rate:  0.001 Accuracy:  0.6153846153846154\n",
      "Epoch:  200 Learning Rate:  0.001 Accuracy:  0.6153846153846154\n",
      "Epoch:  200 Learning Rate:  0.0001 Accuracy:  0.6153846153846154\n",
      "Epoch:  200 Learning Rate:  0.05 Accuracy:  0.7342657342657343\n",
      "Epoch:  200 Learning Rate:  0.005 Accuracy:  0.6153846153846154\n",
      "Epoch:  200 Learning Rate:  0.0005 Accuracy:  0.6153846153846154\n",
      "Epoch:  250 Learning Rate:  0.5 Accuracy:  0.8181818181818182\n",
      "Epoch:  250 Learning Rate:  0.4 Accuracy:  0.8181818181818182\n",
      "Epoch:  250 Learning Rate:  0.3 Accuracy:  0.8181818181818182\n",
      "Epoch:  250 Learning Rate:  0.2 Accuracy:  0.8181818181818182\n",
      "Epoch:  250 Learning Rate:  0.1 Accuracy:  0.8181818181818182\n",
      "Epoch:  250 Learning Rate:  0.001 Accuracy:  0.6153846153846154\n",
      "Epoch:  250 Learning Rate:  0.001 Accuracy:  0.6153846153846154\n",
      "Epoch:  250 Learning Rate:  0.0001 Accuracy:  0.6153846153846154\n",
      "Epoch:  250 Learning Rate:  0.05 Accuracy:  0.8251748251748252\n",
      "Epoch:  250 Learning Rate:  0.005 Accuracy:  0.6153846153846154\n",
      "Epoch:  250 Learning Rate:  0.0005 Accuracy:  0.6153846153846154\n",
      "Epoch:  300 Learning Rate:  0.5 Accuracy:  0.8181818181818182\n",
      "Epoch:  300 Learning Rate:  0.4 Accuracy:  0.8181818181818182\n",
      "Epoch:  300 Learning Rate:  0.3 Accuracy:  0.8181818181818182\n",
      "Epoch:  300 Learning Rate:  0.2 Accuracy:  0.8181818181818182\n",
      "Epoch:  300 Learning Rate:  0.1 Accuracy:  0.8181818181818182\n",
      "Epoch:  300 Learning Rate:  0.001 Accuracy:  0.6153846153846154\n",
      "Epoch:  300 Learning Rate:  0.001 Accuracy:  0.6153846153846154\n",
      "Epoch:  300 Learning Rate:  0.0001 Accuracy:  0.6153846153846154\n",
      "Epoch:  300 Learning Rate:  0.05 Accuracy:  0.8251748251748252\n",
      "Epoch:  300 Learning Rate:  0.005 Accuracy:  0.6153846153846154\n",
      "Epoch:  300 Learning Rate:  0.0005 Accuracy:  0.6153846153846154\n",
      "Epoch:  350 Learning Rate:  0.5 Accuracy:  0.8181818181818182\n",
      "Epoch:  350 Learning Rate:  0.4 Accuracy:  0.8181818181818182\n",
      "Epoch:  350 Learning Rate:  0.3 Accuracy:  0.8181818181818182\n",
      "Epoch:  350 Learning Rate:  0.2 Accuracy:  0.8181818181818182\n",
      "Epoch:  350 Learning Rate:  0.1 Accuracy:  0.8181818181818182\n",
      "Epoch:  350 Learning Rate:  0.001 Accuracy:  0.6153846153846154\n",
      "Epoch:  350 Learning Rate:  0.001 Accuracy:  0.6153846153846154\n",
      "Epoch:  350 Learning Rate:  0.0001 Accuracy:  0.6153846153846154\n",
      "Epoch:  350 Learning Rate:  0.05 Accuracy:  0.8251748251748252\n",
      "Epoch:  350 Learning Rate:  0.005 Accuracy:  0.6153846153846154\n",
      "Epoch:  350 Learning Rate:  0.0005 Accuracy:  0.6153846153846154\n",
      "Epoch:  400 Learning Rate:  0.5 Accuracy:  0.8181818181818182\n",
      "Epoch:  400 Learning Rate:  0.4 Accuracy:  0.8181818181818182\n",
      "Epoch:  400 Learning Rate:  0.3 Accuracy:  0.8181818181818182\n",
      "Epoch:  400 Learning Rate:  0.2 Accuracy:  0.8181818181818182\n",
      "Epoch:  400 Learning Rate:  0.1 Accuracy:  0.8181818181818182\n",
      "Epoch:  400 Learning Rate:  0.001 Accuracy:  0.6153846153846154\n",
      "Epoch:  400 Learning Rate:  0.001 Accuracy:  0.6153846153846154\n",
      "Epoch:  400 Learning Rate:  0.0001 Accuracy:  0.6153846153846154\n",
      "Epoch:  400 Learning Rate:  0.05 Accuracy:  0.8251748251748252\n",
      "Epoch:  400 Learning Rate:  0.005 Accuracy:  0.6153846153846154\n",
      "Epoch:  400 Learning Rate:  0.0005 Accuracy:  0.6153846153846154\n",
      "Epoch:  450 Learning Rate:  0.5 Accuracy:  0.8181818181818182\n",
      "Epoch:  450 Learning Rate:  0.4 Accuracy:  0.8181818181818182\n",
      "Epoch:  450 Learning Rate:  0.3 Accuracy:  0.8181818181818182\n",
      "Epoch:  450 Learning Rate:  0.2 Accuracy:  0.8181818181818182\n",
      "Epoch:  450 Learning Rate:  0.1 Accuracy:  0.8181818181818182\n",
      "Epoch:  450 Learning Rate:  0.001 Accuracy:  0.6153846153846154\n",
      "Epoch:  450 Learning Rate:  0.001 Accuracy:  0.6153846153846154\n",
      "Epoch:  450 Learning Rate:  0.0001 Accuracy:  0.6153846153846154\n",
      "Epoch:  450 Learning Rate:  0.05 Accuracy:  0.8181818181818182\n",
      "Epoch:  450 Learning Rate:  0.005 Accuracy:  0.6153846153846154\n",
      "Epoch:  450 Learning Rate:  0.0005 Accuracy:  0.6153846153846154\n",
      "Epoch:  500 Learning Rate:  0.5 Accuracy:  0.8181818181818182\n",
      "Epoch:  500 Learning Rate:  0.4 Accuracy:  0.8181818181818182\n",
      "Epoch:  500 Learning Rate:  0.3 Accuracy:  0.8181818181818182\n",
      "Epoch:  500 Learning Rate:  0.2 Accuracy:  0.8181818181818182\n",
      "Epoch:  500 Learning Rate:  0.1 Accuracy:  0.8181818181818182\n",
      "Epoch:  500 Learning Rate:  0.001 Accuracy:  0.6153846153846154\n",
      "Epoch:  500 Learning Rate:  0.001 Accuracy:  0.6153846153846154\n",
      "Epoch:  500 Learning Rate:  0.0001 Accuracy:  0.6153846153846154\n",
      "Epoch:  500 Learning Rate:  0.05 Accuracy:  0.8181818181818182\n",
      "Epoch:  500 Learning Rate:  0.005 Accuracy:  0.6153846153846154\n",
      "Epoch:  500 Learning Rate:  0.0005 Accuracy:  0.6153846153846154\n",
      "Epoch:  1000 Learning Rate:  0.5 Accuracy:  0.8181818181818182\n",
      "Epoch:  1000 Learning Rate:  0.4 Accuracy:  0.8181818181818182\n",
      "Epoch:  1000 Learning Rate:  0.3 Accuracy:  0.8181818181818182\n",
      "Epoch:  1000 Learning Rate:  0.2 Accuracy:  0.8181818181818182\n",
      "Epoch:  1000 Learning Rate:  0.1 Accuracy:  0.8181818181818182\n",
      "Epoch:  1000 Learning Rate:  0.001 Accuracy:  0.6153846153846154\n",
      "Epoch:  1000 Learning Rate:  0.001 Accuracy:  0.6153846153846154\n",
      "Epoch:  1000 Learning Rate:  0.0001 Accuracy:  0.6153846153846154\n",
      "Epoch:  1000 Learning Rate:  0.05 Accuracy:  0.8181818181818182\n",
      "Epoch:  1000 Learning Rate:  0.005 Accuracy:  0.6153846153846154\n",
      "Epoch:  1000 Learning Rate:  0.0005 Accuracy:  0.6153846153846154\n",
      "Epoch:  1500 Learning Rate:  0.5 Accuracy:  0.8111888111888111\n",
      "Epoch:  1500 Learning Rate:  0.4 Accuracy:  0.8111888111888111\n",
      "Epoch:  1500 Learning Rate:  0.3 Accuracy:  0.8181818181818182\n",
      "Epoch:  1500 Learning Rate:  0.2 Accuracy:  0.8181818181818182\n",
      "Epoch:  1500 Learning Rate:  0.1 Accuracy:  0.8181818181818182\n",
      "Epoch:  1500 Learning Rate:  0.001 Accuracy:  0.6153846153846154\n",
      "Epoch:  1500 Learning Rate:  0.001 Accuracy:  0.6153846153846154\n",
      "Epoch:  1500 Learning Rate:  0.0001 Accuracy:  0.6153846153846154\n",
      "Epoch:  1500 Learning Rate:  0.05 Accuracy:  0.8181818181818182\n",
      "Epoch:  1500 Learning Rate:  0.005 Accuracy:  0.7342657342657343\n",
      "Epoch:  1500 Learning Rate:  0.0005 Accuracy:  0.6153846153846154\n",
      "Epoch:  2000 Learning Rate:  0.5 Accuracy:  0.8111888111888111\n",
      "Epoch:  2000 Learning Rate:  0.4 Accuracy:  0.8111888111888111\n",
      "Epoch:  2000 Learning Rate:  0.3 Accuracy:  0.8111888111888111\n",
      "Epoch:  2000 Learning Rate:  0.2 Accuracy:  0.8181818181818182\n",
      "Epoch:  2000 Learning Rate:  0.1 Accuracy:  0.8181818181818182\n",
      "Epoch:  2000 Learning Rate:  0.001 Accuracy:  0.6153846153846154\n",
      "Epoch:  2000 Learning Rate:  0.001 Accuracy:  0.6153846153846154\n",
      "Epoch:  2000 Learning Rate:  0.0001 Accuracy:  0.6153846153846154\n",
      "Epoch:  2000 Learning Rate:  0.05 Accuracy:  0.8181818181818182\n",
      "Epoch:  2000 Learning Rate:  0.005 Accuracy:  0.7342657342657343\n",
      "Epoch:  2000 Learning Rate:  0.0005 Accuracy:  0.6153846153846154\n"
     ]
    }
   ],
   "source": [
    "for i in epochs:\n",
    "    for j in lr:\n",
    "        w, b,losses= train(X_train, y_train,i,j)\n",
    "        prediction=predict(X_val,w,b)\n",
    "        print(\"Epoch: \" ,i, \"Learning Rate: \", j, \"Accuracy: \" ,accuracy_score(prediction,y_val)\n",
    "\n",
    ")\n",
    "\n",
    "\n",
    "        #plt.plot(np.arange(i),losses)\n",
    "        #plt.xlabel(i)\n",
    "        \n",
    "        "
   ]
  },
  {
   "cell_type": "code",
   "execution_count": 14,
   "metadata": {},
   "outputs": [],
   "source": [
    "epochs=50\n",
    "lr=0.3\n",
    "w, b,losses= train(X_train, y_train,epochs,lr)\n",
    "predictionTest=predict(X_test,w,b)"
   ]
  },
  {
   "cell_type": "code",
   "execution_count": 15,
   "metadata": {},
   "outputs": [
    {
     "data": {
      "text/plain": [
       "[<matplotlib.lines.Line2D at 0x7fdf889fa410>]"
      ]
     },
     "execution_count": 15,
     "metadata": {},
     "output_type": "execute_result"
    },
    {
     "data": {
      "image/png": "[encoded data removed]",
      "text/plain": [
       "<Figure size 432x288 with 1 Axes>"
      ]
     },
     "metadata": {
      "needs_background": "light"
     },
     "output_type": "display_data"
    }
   ],
   "source": [
    "plt.plot(np.arange(epochs),losses)"
   ]
  },
  {
   "cell_type": "code",
   "execution_count": 17,
   "metadata": {},
   "outputs": [
    {
     "data": {
      "text/plain": [
       "0.8100558659217877"
      ]
     },
     "execution_count": 17,
     "metadata": {},
     "output_type": "execute_result"
    }
   ],
   "source": [
    "accuracy_score(predictionTest,y_test)\n"
   ]
  },
  {
   "cell_type": "code",
   "execution_count": null,
   "metadata": {},
   "outputs": [],
   "source": []
  }
 ],
 "metadata": {
  "kernelspec": {
   "display_name": "Python 3",
   "language": "python",
   "name": "python3"
  },
  "language_info": {
   "codemirror_mode": {
    "name": "ipython",
    "version": 3
   },
   "file_extension": ".py",
   "mimetype": "text/x-python",
   "name": "python",
   "nbconvert_exporter": "python",
   "pygments_lexer": "ipython3",
   "version": "3.7.4"
  }
 },
 "nbformat": 4,
 "nbformat_minor": 4
}
